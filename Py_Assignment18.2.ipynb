{
 "cells": [
  {
   "cell_type": "markdown",
   "metadata": {},
   "source": [
    "#### Problem Statement 18:.2\n",
    "\n",
    "In one state, 52% of the voters are Republicans, and 48% are Democrats. In a second\n",
    "state, 47% of the voters are Republicans, and 53% are Democrats. Suppose a simple\n",
    "random sample of 100 voters are surveyed from each state.\n",
    "What is the probability that the survey will show a greater percentage of Republican\n",
    "voters in the second state than in the first state?"
   ]
  },
  {
   "cell_type": "markdown",
   "metadata": {},
   "source": [
    "Let \n",
    "\n",
    "P1 = the proportion of Republican voters in the first state, \n",
    "\n",
    "P2 = the proportion of Republican voters in the second state, \n",
    "\n",
    "\n",
    "p1 = the proportion of Republican voters in the sample from the first state, \n",
    "\n",
    "p2 = the proportion of Republican voters in the sample from the second state. \n",
    "\n",
    "\n",
    "n1 = The number of voters sampled from the first state = 100 \n",
    "n2 = the number of voters sampled from the second state = 100.\n"
   ]
  },
  {
   "cell_type": "code",
   "execution_count": 13,
   "metadata": {},
   "outputs": [],
   "source": [
    "import numpy as np"
   ]
  },
  {
   "cell_type": "code",
   "execution_count": 11,
   "metadata": {},
   "outputs": [
    {
     "name": "stdout",
     "output_type": "stream",
     "text": [
      "52.0\n",
      "48.0\n",
      "47.0\n",
      "53.0\n"
     ]
    }
   ],
   "source": [
    "n1_P1 = 100*0.52\n",
    "print(n1_P1)\n",
    "n1_P =100*0.48 # n1(1-P1)\n",
    "print(n1_P)\n",
    "n2_P2 = 100*0.47\n",
    "print(n2_P2)\n",
    "n2_P = 100*0.53 # n2(1-P2)\n",
    "print(n2_P)"
   ]
  },
  {
   "cell_type": "markdown",
   "metadata": {},
   "source": [
    "Find the mean of the difference in sample proportions: E(p1 - p2) = P1 - P2 = 0.52 - 0.47 = 0.05."
   ]
  },
  {
   "cell_type": "markdown",
   "metadata": {},
   "source": [
    "Find the standard deviation of the difference:\n",
    "\n",
    "σd = sqrt{ [ P1(1 - P1) / n1 ] + [ P2(1 - P2) / n2 ] }\n",
    "\n",
    "σd = sqrt{ [ (0.52)(0.48) / 100 ] + [ (0.47)(0.53) / 100 ] }\n"
   ]
  },
  {
   "cell_type": "code",
   "execution_count": 16,
   "metadata": {},
   "outputs": [
    {
     "data": {
      "text/plain": [
       "0.070618694408775357"
      ]
     },
     "execution_count": 16,
     "metadata": {},
     "output_type": "execute_result"
    }
   ],
   "source": [
    "σd = np.sqrt(((0.52)*(0.48) / 100 )+ ((0.47)*(0.53) / 100 ))\n",
    "σd"
   ]
  },
  {
   "cell_type": "markdown",
   "metadata": {},
   "source": [
    "Find the probability. This problem requires us to find the probability that p1 is less than p2. This is equivalent to finding the probability that p1 - p2 is less than zero. To find this probability, we need to transform the random variable (p1 - p2) into a z-score. "
   ]
  },
  {
   "cell_type": "markdown",
   "metadata": {},
   "source": [
    "That transformation appears below.\n",
    "\n",
    "zp1 - p2 = (x - μp1 - p2) / σd = = (0 - 0.05)/0.0706 = -0.7082\n",
    "\n",
    "Using Normal Distribution Calculator, we find \n",
    "\n",
    "P(z <=0.7082) = 0.24\n",
    "\n",
    "the probability of a z-score being -0.7082 or less is 0.24\n",
    "\n",
    "Therefore, the probability that the survey will show a greater percentage of\n",
    "Republican voters in the second state than in the first state is **0.24**."
   ]
  },
  {
   "cell_type": "code",
   "execution_count": null,
   "metadata": {},
   "outputs": [],
   "source": []
  }
 ],
 "metadata": {
  "kernelspec": {
   "display_name": "Python 3",
   "language": "python",
   "name": "python3"
  },
  "language_info": {
   "codemirror_mode": {
    "name": "ipython",
    "version": 3
   },
   "file_extension": ".py",
   "mimetype": "text/x-python",
   "name": "python",
   "nbconvert_exporter": "python",
   "pygments_lexer": "ipython3",
   "version": "3.6.5"
  }
 },
 "nbformat": 4,
 "nbformat_minor": 2
}
